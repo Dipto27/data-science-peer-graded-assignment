{
  "metadata": {
    "kernelspec": {
      "name": "python",
      "display_name": "Python (Pyodide)",
      "language": "python"
    },
    "language_info": {
      "codemirror_mode": {
        "name": "python",
        "version": 3
      },
      "file_extension": ".py",
      "mimetype": "text/x-python",
      "name": "python",
      "nbconvert_exporter": "python",
      "pygments_lexer": "ipython3",
      "version": "3.8"
    }
  },
  "nbformat_minor": 5,
  "nbformat": 4,
  "cells": [
    {
      "id": "ef202ac0-977c-4df9-96c7-eb249a18b5c7",
      "cell_type": "code",
      "source": "{\n \"cells\": [\n  {\n   \"cell_type\": \"markdown\",\n   \"id\": \"0e703f0c\",\n   \"metadata\": {},\n   \"source\": [\n    \"# Data Science Tools and Ecosystem\\n\"\n   ]\n  },\n  {\n   \"cell_type\": \"markdown\",\n   \"id\": \"8874a9d9\",\n   \"metadata\": {},\n   \"source\": [\n    \"In this notebook, Data Science Tools and Ecosystem are summarized.\"\n   ]\n  },\n  {\n   \"cell_type\": \"markdown\",\n   \"id\": \"8340631d\",\n   \"metadata\": {},\n   \"source\": [\n    \"Some of the popular languages that Data Scientists use are:\\n\",\n    \"1. Python\\n\",\n    \"2. R\\n\",\n    \"3. SQL\\n\",\n    \"4. C++\\n\",\n    \"5. Java etc..;\"\n   ]\n  },\n  {\n   \"cell_type\": \"markdown\",\n   \"id\": \"595dd0f7\",\n   \"metadata\": {},\n   \"source\": [\n    \"Some of the commonly used libraries used by Data Scientists include:\\n\",\n    \"1. Tensorflow.\\n\",\n    \"2. NumPy.\\n\",\n    \"3. SciPy.\\n\",\n    \"4. Pandas.\\n\",\n    \"5. Matplotlib.\\n\",\n    \"6. Keras.\\n\",\n    \"7. Scikit-Learn.\\n\",\n    \"8. PyTorch. etc..;\\n\"\n   ]\n  },\n  {\n   \"cell_type\": \"markdown\",\n   \"id\": \"83752169\",\n   \"metadata\": {},\n   \"source\": [\n    \"|Data Science Tools|\\n\",\n    \"|---|\\n\",\n    \"|SAS|\\n\",\n    \"|Apache Hadoop|\\n\",\n    \"|Tensorflow|\"\n   ]\n  },\n  {\n   \"cell_type\": \"markdown\",\n   \"id\": \"54ccf609\",\n   \"metadata\": {},\n   \"source\": [\n    \"### Below are a few examples of evaluating arithmetic expressions in Python\"\n   ]\n  },\n  {\n   \"cell_type\": \"code\",\n   \"execution_count\": 1,\n   \"id\": \"9e0c831e\",\n   \"metadata\": {},\n   \"outputs\": [\n    {\n     \"data\": {\n      \"text/plain\": [\n       \"17\"\n      ]\n     },\n     \"execution_count\": 1,\n     \"metadata\": {},\n     \"output_type\": \"execute_result\"\n    }\n   ],\n   \"source\": [\n    \"#  This a simple arithmetic expression to mutiply then add integers\\n\",\n    \"(3*4)+5\"\n   ]\n  },\n  {\n   \"cell_type\": \"code\",\n   \"execution_count\": 2,\n   \"id\": \"7c371ee8\",\n   \"metadata\": {},\n   \"outputs\": [\n    {\n     \"data\": {\n      \"text/plain\": [\n       \"3.3333333333333335\"\n      ]\n     },\n     \"execution_count\": 2,\n     \"metadata\": {},\n     \"output_type\": \"execute_result\"\n    }\n   ],\n   \"source\": [\n    \"# This will convert 200 minutes to hours by diving by 60\\n\",\n    \"200/60\"\n   ]\n  },\n  {\n   \"cell_type\": \"markdown\",\n   \"id\": \"f315f203\",\n   \"metadata\": {},\n   \"source\": [\n    \"__Objectives__\\n\",\n    \"* List popular languages for Data Science\\n\",\n    \"* List popular libraries for Data Science\\n\",\n    \"* List of well known Data Science Tools\\n\",\n    \"* How to provide comments in the cell\\n\"\n   ]\n  },\n  {\n   \"cell_type\": \"markdown\",\n   \"id\": \"28f91c26\",\n   \"metadata\": {},\n   \"source\": [\n    \"## Author\\n\",\n    \"Shail Patel\"\n   ]\n  },\n  {\n   \"cell_type\": \"code\",\n   \"execution_count\": null,\n   \"id\": \"411e2c20\",\n   \"metadata\": {},\n   \"outputs\": [],\n   \"source\": []\n  }\n ],\n \"metadata\": {\n  \"kernelspec\": {\n   \"display_name\": \"Python 3 (ipykernel)\",\n   \"language\": \"python\",\n   \"name\": \"python3\"\n  },\n  \"language_info\": {\n   \"codemirror_mode\": {\n    \"name\": \"ipython\",\n    \"version\": 3\n   },\n   \"file_extension\": \".py\",\n   \"mimetype\": \"text/x-python\",\n   \"name\": \"python\",\n   \"nbconvert_exporter\": \"python\",\n   \"pygments_lexer\": \"ipython3\",\n   \"version\": \"3.10.9\"\n  }\n },\n \"nbformat\": 4,\n \"nbformat_minor\": 5\n}",
      "metadata": {
        "trusted": true
      },
      "outputs": [],
      "execution_count": null
    }
  ]
}